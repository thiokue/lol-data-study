{
 "cells": [
  {
   "attachments": {},
   "cell_type": "markdown",
   "metadata": {},
   "source": [
    "Abrir o dataset e importar as bibliotecas"
   ]
  },
  {
   "cell_type": "code",
   "execution_count": 33,
   "metadata": {},
   "outputs": [],
   "source": [
    "import pandas as pd\n",
    "import matplotlib.pyplot as plt\n",
    "import numpy as np\n",
    "import seaborn as sns"
   ]
  },
  {
   "cell_type": "code",
   "execution_count": 3,
   "metadata": {},
   "outputs": [
    {
     "data": {
      "text/plain": [
       "Name       object\n",
       "Class      object\n",
       "Role       object\n",
       "Tier       object\n",
       "Score     float64\n",
       "Trend     float64\n",
       "Win %      object\n",
       "Role %     object\n",
       "Pick %     object\n",
       "Ban %      object\n",
       "KDA       float64\n",
       "dtype: object"
      ]
     },
     "execution_count": 3,
     "metadata": {},
     "output_type": "execute_result"
    }
   ],
   "source": [
    "og_data = pd.read_csv(r'./arqs/League of Legends Champion Stats 12.9.csv', sep=';')"
   ]
  },
  {
   "attachments": {},
   "cell_type": "markdown",
   "metadata": {},
   "source": [
    "Checa as dimensões e os nomes das colunas"
   ]
  },
  {
   "cell_type": "code",
   "execution_count": 8,
   "metadata": {},
   "outputs": [
    {
     "name": "stdout",
     "output_type": "stream",
     "text": [
      "Dimensões: (243, 11)\n",
      "Nome das colunas ['Name', 'Class', 'Role', 'Tier', 'Score', 'Trend', 'Win %', 'Role %', 'Pick %', 'Ban %', 'KDA']\n"
     ]
    }
   ],
   "source": [
    "print(f'Dimensões: {og_data.shape}')\n",
    "print(f'Nome das colunas {og_data.columns.values.tolist()}')"
   ]
  },
  {
   "attachments": {},
   "cell_type": "markdown",
   "metadata": {},
   "source": [
    "Checa todas as classes de campeões no dataset"
   ]
  },
  {
   "cell_type": "code",
   "execution_count": 9,
   "metadata": {},
   "outputs": [
    {
     "name": "stdout",
     "output_type": "stream",
     "text": [
      "As classes do dataset são: ['Fighter', 'Mage', 'Assassin', 'Marksman', 'Tank', 'Support']\n"
     ]
    }
   ],
   "source": [
    "classes = og_data.Class.unique().tolist()\n",
    "print(f'As classes do dataset são: {classes}')"
   ]
  },
  {
   "attachments": {},
   "cell_type": "markdown",
   "metadata": {},
   "source": [
    "Checa todas as roles de campeões no dataset"
   ]
  },
  {
   "cell_type": "code",
   "execution_count": 10,
   "metadata": {},
   "outputs": [
    {
     "name": "stdout",
     "output_type": "stream",
     "text": [
      "As roles do dataset são: ['TOP', 'MID', 'SUPPORT', 'JUNGLE', 'ADC']\n"
     ]
    }
   ],
   "source": [
    "roles = og_data.Role.unique().tolist()\n",
    "print(f'As roles do dataset são: {roles}')"
   ]
  },
  {
   "attachments": {},
   "cell_type": "markdown",
   "metadata": {},
   "source": [
    "Checa se existem colunas nulas"
   ]
  },
  {
   "cell_type": "code",
   "execution_count": 13,
   "metadata": {},
   "outputs": [
    {
     "data": {
      "text/plain": [
       "Name      0\n",
       "Class     0\n",
       "Role      0\n",
       "Tier      0\n",
       "Score     0\n",
       "Trend     0\n",
       "Win %     0\n",
       "Role %    0\n",
       "Pick %    0\n",
       "Ban %     0\n",
       "KDA       0\n",
       "dtype: int64"
      ]
     },
     "execution_count": 13,
     "metadata": {},
     "output_type": "execute_result"
    }
   ],
   "source": [
    "og_data.isnull().sum()"
   ]
  },
  {
   "attachments": {},
   "cell_type": "markdown",
   "metadata": {},
   "source": [
    "Remove o % dos valores da coluna 'Win %'"
   ]
  },
  {
   "cell_type": "code",
   "execution_count": 14,
   "metadata": {},
   "outputs": [
    {
     "data": {
      "text/html": [
       "<div>\n",
       "<style scoped>\n",
       "    .dataframe tbody tr th:only-of-type {\n",
       "        vertical-align: middle;\n",
       "    }\n",
       "\n",
       "    .dataframe tbody tr th {\n",
       "        vertical-align: top;\n",
       "    }\n",
       "\n",
       "    .dataframe thead th {\n",
       "        text-align: right;\n",
       "    }\n",
       "</style>\n",
       "<table border=\"1\" class=\"dataframe\">\n",
       "  <thead>\n",
       "    <tr style=\"text-align: right;\">\n",
       "      <th></th>\n",
       "      <th>Name</th>\n",
       "      <th>Class</th>\n",
       "      <th>Role</th>\n",
       "      <th>Tier</th>\n",
       "      <th>Score</th>\n",
       "      <th>Trend</th>\n",
       "      <th>Win %</th>\n",
       "      <th>Role %</th>\n",
       "      <th>Pick %</th>\n",
       "      <th>Ban %</th>\n",
       "      <th>KDA</th>\n",
       "    </tr>\n",
       "  </thead>\n",
       "  <tbody>\n",
       "    <tr>\n",
       "      <th>0</th>\n",
       "      <td>Aatrox</td>\n",
       "      <td>Fighter</td>\n",
       "      <td>TOP</td>\n",
       "      <td>God</td>\n",
       "      <td>77.17</td>\n",
       "      <td>-5.29</td>\n",
       "      <td>49.54</td>\n",
       "      <td>92.59</td>\n",
       "      <td>7.61</td>\n",
       "      <td>6.47</td>\n",
       "      <td>1.84</td>\n",
       "    </tr>\n",
       "    <tr>\n",
       "      <th>1</th>\n",
       "      <td>Ahri</td>\n",
       "      <td>Mage</td>\n",
       "      <td>MID</td>\n",
       "      <td>God</td>\n",
       "      <td>80.34</td>\n",
       "      <td>-7.49</td>\n",
       "      <td>50.38</td>\n",
       "      <td>94.77</td>\n",
       "      <td>10.83</td>\n",
       "      <td>13.10</td>\n",
       "      <td>2.41</td>\n",
       "    </tr>\n",
       "    <tr>\n",
       "      <th>2</th>\n",
       "      <td>Akali</td>\n",
       "      <td>Assassin</td>\n",
       "      <td>MID</td>\n",
       "      <td>S</td>\n",
       "      <td>62.64</td>\n",
       "      <td>-0.47</td>\n",
       "      <td>49.61</td>\n",
       "      <td>64.32</td>\n",
       "      <td>6.53</td>\n",
       "      <td>15.19</td>\n",
       "      <td>2.26</td>\n",
       "    </tr>\n",
       "    <tr>\n",
       "      <th>3</th>\n",
       "      <td>Akali</td>\n",
       "      <td>Assassin</td>\n",
       "      <td>TOP</td>\n",
       "      <td>A</td>\n",
       "      <td>49.62</td>\n",
       "      <td>-1.60</td>\n",
       "      <td>48.14</td>\n",
       "      <td>34.81</td>\n",
       "      <td>3.32</td>\n",
       "      <td>15.19</td>\n",
       "      <td>1.98</td>\n",
       "    </tr>\n",
       "    <tr>\n",
       "      <th>4</th>\n",
       "      <td>Akshan</td>\n",
       "      <td>Marksman</td>\n",
       "      <td>MID</td>\n",
       "      <td>A</td>\n",
       "      <td>52.54</td>\n",
       "      <td>1.41</td>\n",
       "      <td>50.97</td>\n",
       "      <td>61.05</td>\n",
       "      <td>3.64</td>\n",
       "      <td>10.18</td>\n",
       "      <td>2.13</td>\n",
       "    </tr>\n",
       "  </tbody>\n",
       "</table>\n",
       "</div>"
      ],
      "text/plain": [
       "     Name     Class Role Tier  Score  Trend  Win % Role % Pick %  Ban %   KDA\n",
       "0  Aatrox   Fighter  TOP  God  77.17  -5.29  49.54  92.59   7.61   6.47  1.84\n",
       "1    Ahri      Mage  MID  God  80.34  -7.49  50.38  94.77  10.83  13.10  2.41\n",
       "2   Akali  Assassin  MID    S  62.64  -0.47  49.61  64.32   6.53  15.19  2.26\n",
       "3   Akali  Assassin  TOP    A  49.62  -1.60  48.14  34.81   3.32  15.19  1.98\n",
       "4  Akshan  Marksman  MID    A  52.54   1.41  50.97  61.05   3.64  10.18  2.13"
      ]
     },
     "execution_count": 14,
     "metadata": {},
     "output_type": "execute_result"
    }
   ],
   "source": [
    "og_data['Win %'] = og_data['Win %'].str[:-1]\n",
    "og_data['Role %'] = og_data['Role %'].str[:-1]\n",
    "og_data['Pick %'] = og_data['Pick %'].str[:-1]\n",
    "og_data['Ban %'] = og_data['Ban %'].str[:-1]\n",
    "og_data.head()"
   ]
  },
  {
   "attachments": {},
   "cell_type": "markdown",
   "metadata": {},
   "source": [
    "Troca o tipo das colunas para float"
   ]
  },
  {
   "cell_type": "code",
   "execution_count": 16,
   "metadata": {},
   "outputs": [],
   "source": [
    "og_data[['Win %', 'Role %', 'Pick %', 'Ban %']] = og_data[['Win %', 'Role %', 'Pick %', 'Ban %']].apply(pd.to_numeric)"
   ]
  },
  {
   "attachments": {},
   "cell_type": "markdown",
   "metadata": {},
   "source": [
    "Checa se os tipos da classe foram trocados"
   ]
  },
  {
   "cell_type": "code",
   "execution_count": 17,
   "metadata": {},
   "outputs": [
    {
     "data": {
      "text/plain": [
       "Name       object\n",
       "Class      object\n",
       "Role       object\n",
       "Tier       object\n",
       "Score     float64\n",
       "Trend     float64\n",
       "Win %     float64\n",
       "Role %    float64\n",
       "Pick %    float64\n",
       "Ban %     float64\n",
       "KDA       float64\n",
       "dtype: object"
      ]
     },
     "execution_count": 17,
     "metadata": {},
     "output_type": "execute_result"
    }
   ],
   "source": [
    "og_data.dtypes"
   ]
  },
  {
   "attachments": {},
   "cell_type": "markdown",
   "metadata": {},
   "source": [
    "Conta quantas vezes cada classe aparece no dataset"
   ]
  },
  {
   "cell_type": "code",
   "execution_count": 19,
   "metadata": {},
   "outputs": [
    {
     "data": {
      "text/html": [
       "<div>\n",
       "<style scoped>\n",
       "    .dataframe tbody tr th:only-of-type {\n",
       "        vertical-align: middle;\n",
       "    }\n",
       "\n",
       "    .dataframe tbody tr th {\n",
       "        vertical-align: top;\n",
       "    }\n",
       "\n",
       "    .dataframe thead th {\n",
       "        text-align: right;\n",
       "    }\n",
       "</style>\n",
       "<table border=\"1\" class=\"dataframe\">\n",
       "  <thead>\n",
       "    <tr style=\"text-align: right;\">\n",
       "      <th></th>\n",
       "      <th>Class</th>\n",
       "      <th>Name</th>\n",
       "    </tr>\n",
       "  </thead>\n",
       "  <tbody>\n",
       "    <tr>\n",
       "      <th>0</th>\n",
       "      <td>Assassin</td>\n",
       "      <td>26</td>\n",
       "    </tr>\n",
       "    <tr>\n",
       "      <th>1</th>\n",
       "      <td>Fighter</td>\n",
       "      <td>72</td>\n",
       "    </tr>\n",
       "    <tr>\n",
       "      <th>2</th>\n",
       "      <td>Mage</td>\n",
       "      <td>63</td>\n",
       "    </tr>\n",
       "    <tr>\n",
       "      <th>3</th>\n",
       "      <td>Marksman</td>\n",
       "      <td>32</td>\n",
       "    </tr>\n",
       "    <tr>\n",
       "      <th>4</th>\n",
       "      <td>Support</td>\n",
       "      <td>20</td>\n",
       "    </tr>\n",
       "    <tr>\n",
       "      <th>5</th>\n",
       "      <td>Tank</td>\n",
       "      <td>30</td>\n",
       "    </tr>\n",
       "  </tbody>\n",
       "</table>\n",
       "</div>"
      ],
      "text/plain": [
       "      Class  Name\n",
       "0  Assassin    26\n",
       "1   Fighter    72\n",
       "2      Mage    63\n",
       "3  Marksman    32\n",
       "4   Support    20\n",
       "5      Tank    30"
      ]
     },
     "execution_count": 19,
     "metadata": {},
     "output_type": "execute_result"
    }
   ],
   "source": [
    "contagem_de_classes = og_data.groupby('Class').Name.count().reset_index()\n",
    "contagem_de_classes"
   ]
  },
  {
   "attachments": {},
   "cell_type": "markdown",
   "metadata": {},
   "source": [
    "Conta quantas vezes cada role aparece no dataset"
   ]
  },
  {
   "cell_type": "code",
   "execution_count": 20,
   "metadata": {},
   "outputs": [
    {
     "data": {
      "text/html": [
       "<div>\n",
       "<style scoped>\n",
       "    .dataframe tbody tr th:only-of-type {\n",
       "        vertical-align: middle;\n",
       "    }\n",
       "\n",
       "    .dataframe tbody tr th {\n",
       "        vertical-align: top;\n",
       "    }\n",
       "\n",
       "    .dataframe thead th {\n",
       "        text-align: right;\n",
       "    }\n",
       "</style>\n",
       "<table border=\"1\" class=\"dataframe\">\n",
       "  <thead>\n",
       "    <tr style=\"text-align: right;\">\n",
       "      <th></th>\n",
       "      <th>Role</th>\n",
       "      <th>Name</th>\n",
       "    </tr>\n",
       "  </thead>\n",
       "  <tbody>\n",
       "    <tr>\n",
       "      <th>0</th>\n",
       "      <td>ADC</td>\n",
       "      <td>28</td>\n",
       "    </tr>\n",
       "    <tr>\n",
       "      <th>1</th>\n",
       "      <td>JUNGLE</td>\n",
       "      <td>47</td>\n",
       "    </tr>\n",
       "    <tr>\n",
       "      <th>2</th>\n",
       "      <td>MID</td>\n",
       "      <td>61</td>\n",
       "    </tr>\n",
       "    <tr>\n",
       "      <th>3</th>\n",
       "      <td>SUPPORT</td>\n",
       "      <td>45</td>\n",
       "    </tr>\n",
       "    <tr>\n",
       "      <th>4</th>\n",
       "      <td>TOP</td>\n",
       "      <td>62</td>\n",
       "    </tr>\n",
       "  </tbody>\n",
       "</table>\n",
       "</div>"
      ],
      "text/plain": [
       "      Role  Name\n",
       "0      ADC    28\n",
       "1   JUNGLE    47\n",
       "2      MID    61\n",
       "3  SUPPORT    45\n",
       "4      TOP    62"
      ]
     },
     "execution_count": 20,
     "metadata": {},
     "output_type": "execute_result"
    }
   ],
   "source": [
    "contagem_de_roles = og_data.groupby('Role').Name.count().reset_index()\n",
    "contagem_de_roles"
   ]
  },
  {
   "attachments": {},
   "cell_type": "markdown",
   "metadata": {},
   "source": [
    "Plota um gráfico pizza com as porcentagens de cada role"
   ]
  },
  {
   "cell_type": "code",
   "execution_count": 27,
   "metadata": {},
   "outputs": [
    {
     "data": {
      "image/png": "[encoded data removed]",
      "text/plain": [
       "<Figure size 1500x400 with 1 Axes>"
      ]
     },
     "metadata": {},
     "output_type": "display_data"
    }
   ],
   "source": [
    "plt.figure(figsize=(15,4))\n",
    "plt.pie(contagem_de_roles.Name, labels=contagem_de_roles.Role, autopct='%.2f')\n",
    "plt.title('Porcentagem de cada role')\n",
    "plt.show()"
   ]
  },
  {
   "attachments": {},
   "cell_type": "markdown",
   "metadata": {},
   "source": [
    "Plota um gráfico pizza com as porcentagens de cada classe"
   ]
  },
  {
   "cell_type": "code",
   "execution_count": 26,
   "metadata": {},
   "outputs": [
    {
     "data": {
      "image/png": "[encoded data removed]",
      "text/plain": [
       "<Figure size 1600x400 with 1 Axes>"
      ]
     },
     "metadata": {},
     "output_type": "display_data"
    }
   ],
   "source": [
    "plt.figure(figsize=(15,4))\n",
    "plt.pie(x=contagem_de_classes.Name, labels=contagem_de_classes.Class, autopct='%.2f')\n",
    "plt.title('Porcentagem de cada Classe')\n",
    "plt.show()"
   ]
  },
  {
   "attachments": {},
   "cell_type": "markdown",
   "metadata": {},
   "source": [
    "Cria outros df para tratamento por role"
   ]
  },
  {
   "cell_type": "code",
   "execution_count": 29,
   "metadata": {},
   "outputs": [],
   "source": [
    "top_df = og_data.loc[og_data['Role'] == 'TOP'].reset_index()\n",
    "jg_df = og_data.loc[og_data['Role'] == 'JUNGLE'].reset_index()\n",
    "mid_df = og_data.loc[og_data['Role'] == 'MID'].reset_index()\n",
    "adc_df = og_data.loc[og_data['Role'] == 'ADC'].reset_index()\n",
    "sup_df = og_data.loc[og_data['Role'] == 'SUPPORT'].reset_index()"
   ]
  },
  {
   "attachments": {},
   "cell_type": "markdown",
   "metadata": {},
   "source": [
    "Cria outro df ordenado por pick % dos ADCs"
   ]
  },
  {
   "cell_type": "code",
   "execution_count": 32,
   "metadata": {},
   "outputs": [
    {
     "data": {
      "text/html": [
       "<div>\n",
       "<style scoped>\n",
       "    .dataframe tbody tr th:only-of-type {\n",
       "        vertical-align: middle;\n",
       "    }\n",
       "\n",
       "    .dataframe tbody tr th {\n",
       "        vertical-align: top;\n",
       "    }\n",
       "\n",
       "    .dataframe thead th {\n",
       "        text-align: right;\n",
       "    }\n",
       "</style>\n",
       "<table border=\"1\" class=\"dataframe\">\n",
       "  <thead>\n",
       "    <tr style=\"text-align: right;\">\n",
       "      <th></th>\n",
       "      <th>level_0</th>\n",
       "      <th>index</th>\n",
       "      <th>Name</th>\n",
       "      <th>Class</th>\n",
       "      <th>Role</th>\n",
       "      <th>Tier</th>\n",
       "      <th>Score</th>\n",
       "      <th>Trend</th>\n",
       "      <th>Win %</th>\n",
       "      <th>Role %</th>\n",
       "      <th>Pick %</th>\n",
       "      <th>Ban %</th>\n",
       "      <th>KDA</th>\n",
       "    </tr>\n",
       "  </thead>\n",
       "  <tbody>\n",
       "    <tr>\n",
       "      <th>0</th>\n",
       "      <td>4</td>\n",
       "      <td>40</td>\n",
       "      <td>Ezreal</td>\n",
       "      <td>Marksman</td>\n",
       "      <td>ADC</td>\n",
       "      <td>God</td>\n",
       "      <td>89.22</td>\n",
       "      <td>1.78</td>\n",
       "      <td>50.16</td>\n",
       "      <td>96.07</td>\n",
       "      <td>22.55</td>\n",
       "      <td>5.82</td>\n",
       "      <td>2.37</td>\n",
       "    </tr>\n",
       "    <tr>\n",
       "      <th>1</th>\n",
       "      <td>6</td>\n",
       "      <td>74</td>\n",
       "      <td>Jhin</td>\n",
       "      <td>Marksman</td>\n",
       "      <td>ADC</td>\n",
       "      <td>God</td>\n",
       "      <td>83.90</td>\n",
       "      <td>-4.79</td>\n",
       "      <td>51.35</td>\n",
       "      <td>97.27</td>\n",
       "      <td>18.69</td>\n",
       "      <td>4.49</td>\n",
       "      <td>2.83</td>\n",
       "    </tr>\n",
       "    <tr>\n",
       "      <th>2</th>\n",
       "      <td>12</td>\n",
       "      <td>101</td>\n",
       "      <td>Lucian</td>\n",
       "      <td>Marksman</td>\n",
       "      <td>ADC</td>\n",
       "      <td>God</td>\n",
       "      <td>87.01</td>\n",
       "      <td>-0.08</td>\n",
       "      <td>51.84</td>\n",
       "      <td>88.68</td>\n",
       "      <td>17.48</td>\n",
       "      <td>18.71</td>\n",
       "      <td>2.30</td>\n",
       "    </tr>\n",
       "    <tr>\n",
       "      <th>3</th>\n",
       "      <td>8</td>\n",
       "      <td>76</td>\n",
       "      <td>Kai'Sa</td>\n",
       "      <td>Marksman</td>\n",
       "      <td>ADC</td>\n",
       "      <td>S</td>\n",
       "      <td>70.60</td>\n",
       "      <td>1.79</td>\n",
       "      <td>50.47</td>\n",
       "      <td>93.99</td>\n",
       "      <td>15.60</td>\n",
       "      <td>2.82</td>\n",
       "      <td>2.38</td>\n",
       "    </tr>\n",
       "    <tr>\n",
       "      <th>4</th>\n",
       "      <td>14</td>\n",
       "      <td>154</td>\n",
       "      <td>Samira</td>\n",
       "      <td>Marksman</td>\n",
       "      <td>ADC</td>\n",
       "      <td>God</td>\n",
       "      <td>73.60</td>\n",
       "      <td>0.15</td>\n",
       "      <td>51.89</td>\n",
       "      <td>96.81</td>\n",
       "      <td>12.43</td>\n",
       "      <td>24.37</td>\n",
       "      <td>2.25</td>\n",
       "    </tr>\n",
       "  </tbody>\n",
       "</table>\n",
       "</div>"
      ],
      "text/plain": [
       "   level_0  index    Name     Class Role Tier  Score  Trend  Win %  Role %   \n",
       "0        4     40  Ezreal  Marksman  ADC  God  89.22   1.78  50.16   96.07  \\\n",
       "1        6     74    Jhin  Marksman  ADC  God  83.90  -4.79  51.35   97.27   \n",
       "2       12    101  Lucian  Marksman  ADC  God  87.01  -0.08  51.84   88.68   \n",
       "3        8     76  Kai'Sa  Marksman  ADC    S  70.60   1.79  50.47   93.99   \n",
       "4       14    154  Samira  Marksman  ADC  God  73.60   0.15  51.89   96.81   \n",
       "\n",
       "   Pick %  Ban %   KDA  \n",
       "0   22.55   5.82  2.37  \n",
       "1   18.69   4.49  2.83  \n",
       "2   17.48  18.71  2.30  \n",
       "3   15.60   2.82  2.38  \n",
       "4   12.43  24.37  2.25  "
      ]
     },
     "execution_count": 32,
     "metadata": {},
     "output_type": "execute_result"
    }
   ],
   "source": [
    "df_adc = adc_df.copy()\n",
    "df_adc = df_adc.sort_values(by=['Pick %'], ascending=False).reset_index()\n",
    "df_adc.head()\n"
   ]
  },
  {
   "attachments": {},
   "cell_type": "markdown",
   "metadata": {},
   "source": [
    "Plota um gráfico de barras que mostra os 10 adc com maiores % de pick"
   ]
  },
  {
   "cell_type": "code",
   "execution_count": 35,
   "metadata": {},
   "outputs": [
    {
     "data": {
      "image/png": "[encoded data removed]",
      "text/plain": [
       "<Figure size 1500x400 with 1 Axes>"
      ]
     },
     "metadata": {},
     "output_type": "display_data"
    }
   ],
   "source": [
    "plt.figure(figsize=(15,4))\n",
    "sns.barplot(x='Name', y='Pick %', data=df_adc[:10], palette='Blues')\n",
    "plt.title('Top 10 adcs pickados')\n",
    "plt.show()"
   ]
  },
  {
   "cell_type": "code",
   "execution_count": 36,
   "metadata": {},
   "outputs": [],
   "source": [
    "lista_de_roles = [top_df,jg_df ,mid_df,adc_df,sup_df]\n",
    "\n",
    "for df in lista_de_roles:\n",
    "    df = df.sort_values(by=['Pick %'], ascending=False).reset_index()\n",
    "    plt.figure(figsize=(15,4))\n",
    "    sns.barplot(x='Name', y='Pick %', data=df[:10], palette='Blues')\n",
    "    plt.title('Top 10 adcs pickados')\n",
    "    plt.show()"
   ]
  }
 ],
 "metadata": {
  "kernelspec": {
   "display_name": "Python 3",
   "language": "python",
   "name": "python3"
  },
  "language_info": {
   "codemirror_mode": {
    "name": "ipython",
    "version": 3
   },
   "file_extension": ".py",
   "mimetype": "text/x-python",
   "name": "python",
   "nbconvert_exporter": "python",
   "pygments_lexer": "ipython3",
   "version": "3.10.11"
  },
  "orig_nbformat": 4
 },
 "nbformat": 4,
 "nbformat_minor": 2
}
